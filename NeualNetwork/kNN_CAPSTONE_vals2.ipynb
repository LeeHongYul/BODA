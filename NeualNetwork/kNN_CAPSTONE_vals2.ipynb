{
 "cells": [
  {
   "cell_type": "markdown",
   "metadata": {},
   "source": [
    "## 1. k-NN 분류기"
   ]
  },
  {
   "cell_type": "code",
   "execution_count": 1,
   "metadata": {
    "id": "v45HHh_EPDqe"
   },
   "outputs": [],
   "source": [
    "from typing import List\n",
    "from collections import Counter"
   ]
  },
  {
   "cell_type": "markdown",
   "metadata": {
    "id": "W_m9-kiqPDqh"
   },
   "source": [
    "### 1.1 투표 함수"
   ]
  },
  {
   "cell_type": "code",
   "execution_count": 2,
   "metadata": {
    "id": "l2wls7Hq9bQF"
   },
   "outputs": [],
   "source": [
    "def majority_vote(labels: List[str]) -> str:\n",
    "    \"\"\"Assumes that labels are ordered from nearest to farthest.\"\"\"\n",
    "    vote_counts = Counter(labels)\n",
    "    winner, winner_count = vote_counts.most_common(1)[0]\n",
    "    num_winners = len([count\n",
    "                       for count in vote_counts.values()\n",
    "                       if count == winner_count])\n",
    "\n",
    "    if num_winners == 1:\n",
    "        return winner                     # unique winner, so return it\n",
    "    else:\n",
    "        return majority_vote(labels[:-1]) # try again without the farthest"
   ]
  },
  {
   "cell_type": "markdown",
   "metadata": {
    "id": "ES0nRSHMPDqi"
   },
   "source": [
    "### 1.2 데이터 포인트"
   ]
  },
  {
   "cell_type": "code",
   "execution_count": 12,
   "metadata": {
    "colab": {
     "base_uri": "https://localhost:8080/",
     "height": 335
    },
    "id": "dRDzvkPcPurd",
    "outputId": "c135bfcb-4955-496f-f5f3-b6609334e2f8"
   },
   "outputs": [
    {
     "ename": "ModuleNotFoundError",
     "evalue": "No module named 'scratch.linear_algebra'",
     "output_type": "error",
     "traceback": [
      "\u001b[1;31m---------------------------------------------------------------------------\u001b[0m",
      "\u001b[1;31mModuleNotFoundError\u001b[0m                       Traceback (most recent call last)",
      "\u001b[1;32m<ipython-input-12-5711ba5be2d5>\u001b[0m in \u001b[0;36m<module>\u001b[1;34m\u001b[0m\n\u001b[0;32m      1\u001b[0m \u001b[1;32mfrom\u001b[0m \u001b[0mtyping\u001b[0m \u001b[1;32mimport\u001b[0m \u001b[0mNamedTuple\u001b[0m\u001b[1;33m\u001b[0m\u001b[1;33m\u001b[0m\u001b[0m\n\u001b[1;32m----> 2\u001b[1;33m \u001b[1;32mfrom\u001b[0m \u001b[0mscratch\u001b[0m\u001b[1;33m.\u001b[0m\u001b[0mlinear_algebra\u001b[0m \u001b[1;32mimport\u001b[0m \u001b[0mVector\u001b[0m\u001b[1;33m,\u001b[0m \u001b[0mdistance\u001b[0m\u001b[1;33m\u001b[0m\u001b[1;33m\u001b[0m\u001b[0m\n\u001b[0m",
      "\u001b[1;31mModuleNotFoundError\u001b[0m: No module named 'scratch.linear_algebra'"
     ]
    }
   ],
   "source": [
    "from typing import NamedTuple\n",
    "from scratch.linear_algebra import Vector, distance"
   ]
  },
  {
   "cell_type": "code",
   "execution_count": 6,
   "metadata": {
    "id": "nHrnI83CPDqi"
   },
   "outputs": [
    {
     "ename": "NameError",
     "evalue": "name 'Vector' is not defined",
     "output_type": "error",
     "traceback": [
      "\u001b[1;31m---------------------------------------------------------------------------\u001b[0m",
      "\u001b[1;31mNameError\u001b[0m                                 Traceback (most recent call last)",
      "\u001b[1;32m<ipython-input-6-b8f63e565d78>\u001b[0m in \u001b[0;36m<module>\u001b[1;34m\u001b[0m\n\u001b[1;32m----> 1\u001b[1;33m \u001b[1;32mclass\u001b[0m \u001b[0mLabeledPoint\u001b[0m\u001b[1;33m(\u001b[0m\u001b[0mNamedTuple\u001b[0m\u001b[1;33m)\u001b[0m\u001b[1;33m:\u001b[0m\u001b[1;33m\u001b[0m\u001b[1;33m\u001b[0m\u001b[0m\n\u001b[0m\u001b[0;32m      2\u001b[0m     \u001b[0mpoint\u001b[0m\u001b[1;33m:\u001b[0m \u001b[0mVector\u001b[0m\u001b[1;33m\u001b[0m\u001b[1;33m\u001b[0m\u001b[0m\n\u001b[0;32m      3\u001b[0m     \u001b[0mlabel\u001b[0m\u001b[1;33m:\u001b[0m \u001b[0mstr\u001b[0m\u001b[1;33m\u001b[0m\u001b[1;33m\u001b[0m\u001b[0m\n",
      "\u001b[1;32m<ipython-input-6-b8f63e565d78>\u001b[0m in \u001b[0;36mLabeledPoint\u001b[1;34m()\u001b[0m\n\u001b[0;32m      1\u001b[0m \u001b[1;32mclass\u001b[0m \u001b[0mLabeledPoint\u001b[0m\u001b[1;33m(\u001b[0m\u001b[0mNamedTuple\u001b[0m\u001b[1;33m)\u001b[0m\u001b[1;33m:\u001b[0m\u001b[1;33m\u001b[0m\u001b[1;33m\u001b[0m\u001b[0m\n\u001b[1;32m----> 2\u001b[1;33m     \u001b[0mpoint\u001b[0m\u001b[1;33m:\u001b[0m \u001b[0mVector\u001b[0m\u001b[1;33m\u001b[0m\u001b[1;33m\u001b[0m\u001b[0m\n\u001b[0m\u001b[0;32m      3\u001b[0m     \u001b[0mlabel\u001b[0m\u001b[1;33m:\u001b[0m \u001b[0mstr\u001b[0m\u001b[1;33m\u001b[0m\u001b[1;33m\u001b[0m\u001b[0m\n",
      "\u001b[1;31mNameError\u001b[0m: name 'Vector' is not defined"
     ]
    }
   ],
   "source": [
    "class LabeledPoint(NamedTuple):\n",
    "    point: Vector\n",
    "    label: str"
   ]
  },
  {
   "cell_type": "markdown",
   "metadata": {
    "id": "AU95fylDQAuN"
   },
   "source": [
    "### 1.3 k-NN 분류기"
   ]
  },
  {
   "cell_type": "code",
   "execution_count": 7,
   "metadata": {
    "id": "NqrP_c4Z9Ux1"
   },
   "outputs": [
    {
     "ename": "NameError",
     "evalue": "name 'LabeledPoint' is not defined",
     "output_type": "error",
     "traceback": [
      "\u001b[1;31m---------------------------------------------------------------------------\u001b[0m",
      "\u001b[1;31mNameError\u001b[0m                                 Traceback (most recent call last)",
      "\u001b[1;32m<ipython-input-7-ffd2f5694fb7>\u001b[0m in \u001b[0;36m<module>\u001b[1;34m\u001b[0m\n\u001b[0;32m      1\u001b[0m def knn_classify(k: int,\n\u001b[1;32m----> 2\u001b[1;33m                  \u001b[0mlabeled_points\u001b[0m\u001b[1;33m:\u001b[0m \u001b[0mList\u001b[0m\u001b[1;33m[\u001b[0m\u001b[0mLabeledPoint\u001b[0m\u001b[1;33m]\u001b[0m\u001b[1;33m,\u001b[0m\u001b[1;33m\u001b[0m\u001b[1;33m\u001b[0m\u001b[0m\n\u001b[0m\u001b[0;32m      3\u001b[0m                  new_point: Vector) -> str:\n\u001b[0;32m      4\u001b[0m \u001b[1;33m\u001b[0m\u001b[0m\n\u001b[0;32m      5\u001b[0m     \u001b[1;31m# Order the labeled points from nearest to farthest.\u001b[0m\u001b[1;33m\u001b[0m\u001b[1;33m\u001b[0m\u001b[1;33m\u001b[0m\u001b[0m\n",
      "\u001b[1;31mNameError\u001b[0m: name 'LabeledPoint' is not defined"
     ]
    }
   ],
   "source": [
    "def knn_classify(k: int,\n",
    "                 labeled_points: List[LabeledPoint],\n",
    "                 new_point: Vector) -> str:\n",
    "\n",
    "    # Order the labeled points from nearest to farthest.\n",
    "    by_distance = sorted(labeled_points,\n",
    "                         key=lambda lp: distance(lp.point, new_point))\n",
    "\n",
    "    # Find the labels for the k closest\n",
    "    k_nearest_labels = [lp.label for lp in by_distance[:k]]\n",
    "\n",
    "    # and let them vote.\n",
    "    return majority_vote(k_nearest_labels)"
   ]
  },
  {
   "cell_type": "code",
   "execution_count": 8,
   "metadata": {},
   "outputs": [],
   "source": [
    "import matplotlib.pyplot as plt\n",
    "import os\n",
    "from typing import Dict\n",
    "import csv\n",
    "from collections import defaultdict"
   ]
  },
  {
   "cell_type": "code",
   "execution_count": 11,
   "metadata": {},
   "outputs": [
    {
     "name": "stdout",
     "output_type": "stream",
     "text": [
      "                  vals1               vals2               vals3  \\\n",
      "0     2.894725928057302  0.6708333333333335   2.289689970660691   \n",
      "1    3.0335995549567043  1.1198130289666666  3.0074748871231725   \n",
      "2    2.9292997395392546  0.7874333699533319  2.9100574429323496   \n",
      "3    2.9935663686343608  0.8613616943266625   3.037824637014039   \n",
      "4    3.0179503600621347  1.2780710856133377  2.9725249219893657   \n",
      "..                  ...                 ...                 ...   \n",
      "723  2.8979354714826866  0.9403147379466702  2.9174315569663585   \n",
      "724   2.922804907569886  1.0359283447399965  2.8967214023993586   \n",
      "725  2.9513865393907297  0.7536402384199988  2.8939121684932023   \n",
      "726   2.960022425564191   1.210233561199997   3.048391297172775   \n",
      "727  2.9358192385845703  1.2522755940666666  2.9414239180277986   \n",
      "\n",
      "                  vals4               vals5               vals6 vals2_label  \n",
      "0    0.8498487576465297   2.569539866352771  2.0036292101520243           B  \n",
      "1    0.6296498145918343   2.677962209679267   2.233453266137824           B  \n",
      "2    0.6085018700797128  2.6819930223907917  2.2518095756528447           B  \n",
      "3     0.638791307973449  2.7669156729147835   2.237851363597979           B  \n",
      "4    0.6086411607087779   2.495880910213111  2.2785188171560935           B  \n",
      "..                  ...                 ...                 ...         ...  \n",
      "723  0.6401218179757886  2.6274394789863416  2.2103821953997316           B  \n",
      "724  0.6048610202882645  2.6752269035721246   2.178983539044372           B  \n",
      "725  0.6184037554728128   2.558906803037591  2.1926202437687454           B  \n",
      "726  0.6079670825929024   2.825557063582974  2.4009142490993445           B  \n",
      "727  0.6043447343665768  2.5049510907317187  2.3366962777337714           B  \n",
      "\n",
      "[728 rows x 7 columns]\n"
     ]
    }
   ],
   "source": [
    "import os\n",
    "import pandas as pd\n",
    "from pandas import DataFrame\n",
    "import numpy as np\n",
    "\n",
    "data_path = '/Users/jh.yun/Desktop/target_data'\n",
    "os.chdir(data_path)\n",
    "data_list=os.listdir()\n",
    "\n",
    "vals1 =[]\n",
    "vals2=[]\n",
    "vals2_label=[]\n",
    "vals3= []\n",
    "vals4=[]\n",
    "vals5=[]\n",
    "vals6=[]\n",
    "inputs=[]\n",
    "\n",
    "for i in data_list:\n",
    "    with open(i, \"r\", encoding='utf8')as f:\n",
    "        data=f.read()\n",
    "        data=data.rstrip()\n",
    "        temp=data.split('-')\n",
    "        vals1.append(float(temp[0]))\n",
    "        vals2.append(float(temp[1]))\n",
    "        vals3.append(float(temp[2]))\n",
    "        vals4.append(float(temp[3]))\n",
    "        vals5.append(float(temp[4]))\n",
    "        vals6.append(float(temp[5]))\n",
    "        if(float(temp[1])>0.052415):\n",
    "            vals2_label.append(\"B\")\n",
    "        elif(float(temp[1]<=0.052415)):\n",
    "            vals2_label.append(\"S\")\n",
    "        \n",
    "        inputs.append(temp)\n",
    "\n",
    "        \n",
    "df = DataFrame (inputs,columns=['vals1','vals2','vals3','vals4','vals5','vals6'])\n",
    "#df=DataFrame(vals2, columns=['vals2'])\n",
    "df[\"vals2_label\"] = vals2_label\n",
    "print (df)\n",
    "data_list = df.values.tolist()"
   ]
  },
  {
   "cell_type": "markdown",
   "metadata": {},
   "source": [
    "### 2.2 데이터 파싱 (Q)"
   ]
  },
  {
   "cell_type": "code",
   "execution_count": 10,
   "metadata": {},
   "outputs": [
    {
     "ename": "NameError",
     "evalue": "name 'LabeledPoint' is not defined",
     "output_type": "error",
     "traceback": [
      "\u001b[1;31m---------------------------------------------------------------------------\u001b[0m",
      "\u001b[1;31mNameError\u001b[0m                                 Traceback (most recent call last)",
      "\u001b[1;32m<ipython-input-10-3632fd9b27cd>\u001b[0m in \u001b[0;36m<module>\u001b[1;34m\u001b[0m\n\u001b[1;32m----> 1\u001b[1;33m \u001b[1;32mdef\u001b[0m \u001b[0mparse_vals2_row\u001b[0m\u001b[1;33m(\u001b[0m\u001b[0mrow\u001b[0m\u001b[1;33m:\u001b[0m \u001b[0mList\u001b[0m\u001b[1;33m[\u001b[0m\u001b[0mstr\u001b[0m\u001b[1;33m]\u001b[0m\u001b[1;33m)\u001b[0m \u001b[1;33m->\u001b[0m \u001b[0mLabeledPoint\u001b[0m\u001b[1;33m:\u001b[0m\u001b[1;33m\u001b[0m\u001b[1;33m\u001b[0m\u001b[0m\n\u001b[0m\u001b[0;32m      2\u001b[0m \u001b[1;33m\u001b[0m\u001b[0m\n\u001b[0;32m      3\u001b[0m     \u001b[0mmeasurements\u001b[0m\u001b[1;33m=\u001b[0m\u001b[1;33m[\u001b[0m\u001b[0mfloat\u001b[0m\u001b[1;33m(\u001b[0m\u001b[0mvalue\u001b[0m\u001b[1;33m)\u001b[0m \u001b[1;32mfor\u001b[0m \u001b[0mvalue\u001b[0m \u001b[1;32min\u001b[0m \u001b[0mrow\u001b[0m\u001b[1;33m[\u001b[0m\u001b[1;33m:\u001b[0m\u001b[1;36m6\u001b[0m\u001b[1;33m]\u001b[0m\u001b[1;33m]\u001b[0m\u001b[1;33m\u001b[0m\u001b[1;33m\u001b[0m\u001b[0m\n\u001b[0;32m      4\u001b[0m \u001b[1;33m\u001b[0m\u001b[0m\n\u001b[0;32m      5\u001b[0m     \u001b[0mlabel\u001b[0m\u001b[1;33m=\u001b[0m\u001b[0mrow\u001b[0m\u001b[1;33m[\u001b[0m\u001b[1;33m-\u001b[0m\u001b[1;36m1\u001b[0m\u001b[1;33m]\u001b[0m\u001b[1;33m\u001b[0m\u001b[1;33m\u001b[0m\u001b[0m\n",
      "\u001b[1;31mNameError\u001b[0m: name 'LabeledPoint' is not defined"
     ]
    }
   ],
   "source": [
    "def parse_vals2_row(row: List[str]) -> LabeledPoint:\n",
    "    \n",
    "    measurements=[float(value) for value in row[:6]]\n",
    "    \n",
    "    label=row[-1]\n",
    "    return LabeledPoint(measurements, label)"
   ]
  },
  {
   "cell_type": "markdown",
   "metadata": {
    "id": "dfDvgQ88PS1E"
   },
   "source": [
    "### 2.3 데이터 읽기"
   ]
  },
  {
   "cell_type": "code",
   "execution_count": null,
   "metadata": {
    "id": "5sECNI0T7Mif"
   },
   "outputs": [],
   "source": [
    "vals2_data = [parse_vals2_row(row) for row in data_list if row]\n",
    "print(vals2_data)"
   ]
  },
  {
   "cell_type": "markdown",
   "metadata": {},
   "source": [
    "#### 데이터 탐색 단계의 시각화를 위해 데이터 행렬 생성"
   ]
  },
  {
   "cell_type": "code",
   "execution_count": null,
   "metadata": {},
   "outputs": [],
   "source": [
    "columns = [\n",
    "    \"vals1\", \"vals2\", \"vals3\", \"vals4\", \"vals5\", \n",
    "    \"vals6\",]"
   ]
  },
  {
   "cell_type": "code",
   "execution_count": 14,
   "metadata": {},
   "outputs": [
    {
     "ename": "ModuleNotFoundError",
     "evalue": "No module named 'scratch.linear_algebra'",
     "output_type": "error",
     "traceback": [
      "\u001b[1;31m---------------------------------------------------------------------------\u001b[0m",
      "\u001b[1;31mModuleNotFoundError\u001b[0m                       Traceback (most recent call last)",
      "\u001b[1;32m<ipython-input-14-3375e8fef749>\u001b[0m in \u001b[0;36m<module>\u001b[1;34m\u001b[0m\n\u001b[1;32m----> 1\u001b[1;33m \u001b[1;32mfrom\u001b[0m \u001b[0mscratch\u001b[0m\u001b[1;33m.\u001b[0m\u001b[0mlinear_algebra\u001b[0m \u001b[1;32mimport\u001b[0m \u001b[0mget_column\u001b[0m\u001b[1;33m,\u001b[0m \u001b[0mshape\u001b[0m\u001b[1;33m\u001b[0m\u001b[1;33m\u001b[0m\u001b[0m\n\u001b[0m\u001b[0;32m      2\u001b[0m \u001b[1;32mdef\u001b[0m \u001b[0mmake_matrix\u001b[0m\u001b[1;33m(\u001b[0m\u001b[0mdataset\u001b[0m\u001b[1;33m)\u001b[0m\u001b[1;33m:\u001b[0m\u001b[1;33m\u001b[0m\u001b[1;33m\u001b[0m\u001b[0m\n\u001b[0;32m      3\u001b[0m     \u001b[0mmatrix\u001b[0m \u001b[1;33m=\u001b[0m \u001b[1;33m[\u001b[0m\u001b[1;33m]\u001b[0m\u001b[1;33m\u001b[0m\u001b[1;33m\u001b[0m\u001b[0m\n\u001b[0;32m      4\u001b[0m     \u001b[1;32mfor\u001b[0m \u001b[0mdatapoint\u001b[0m \u001b[1;32min\u001b[0m \u001b[0mdataset\u001b[0m\u001b[1;33m:\u001b[0m\u001b[1;33m\u001b[0m\u001b[1;33m\u001b[0m\u001b[0m\n\u001b[0;32m      5\u001b[0m         \u001b[0mmatrix\u001b[0m\u001b[1;33m.\u001b[0m\u001b[0mappend\u001b[0m\u001b[1;33m(\u001b[0m\u001b[0mdatapoint\u001b[0m\u001b[1;33m.\u001b[0m\u001b[0mpoint\u001b[0m\u001b[1;33m)\u001b[0m\u001b[1;33m\u001b[0m\u001b[1;33m\u001b[0m\u001b[0m\n",
      "\u001b[1;31mModuleNotFoundError\u001b[0m: No module named 'scratch.linear_algebra'"
     ]
    }
   ],
   "source": [
    "from scratch.linear_algebra import get_column, shape\n",
    "def make_matrix(dataset):\n",
    "    matrix = []\n",
    "    for datapoint in dataset:\n",
    "        matrix.append(datapoint.point)\n",
    "    return matrix"
   ]
  },
  {
   "cell_type": "code",
   "execution_count": 15,
   "metadata": {},
   "outputs": [
    {
     "ename": "NameError",
     "evalue": "name 'data_list' is not defined",
     "output_type": "error",
     "traceback": [
      "\u001b[1;31m---------------------------------------------------------------------------\u001b[0m",
      "\u001b[1;31mNameError\u001b[0m                                 Traceback (most recent call last)",
      "\u001b[1;32m<ipython-input-15-407cf6f6b82d>\u001b[0m in \u001b[0;36m<module>\u001b[1;34m\u001b[0m\n\u001b[1;32m----> 1\u001b[1;33m \u001b[0mvals2_matrix\u001b[0m\u001b[1;33m=\u001b[0m\u001b[0mdata_list\u001b[0m\u001b[1;33m\u001b[0m\u001b[1;33m\u001b[0m\u001b[0m\n\u001b[0m\u001b[0;32m      2\u001b[0m \u001b[0mprint\u001b[0m\u001b[1;33m(\u001b[0m\u001b[0mshape\u001b[0m\u001b[1;33m(\u001b[0m\u001b[0mvals2_matrix\u001b[0m\u001b[1;33m)\u001b[0m\u001b[1;33m)\u001b[0m\u001b[1;33m\u001b[0m\u001b[1;33m\u001b[0m\u001b[0m\n",
      "\u001b[1;31mNameError\u001b[0m: name 'data_list' is not defined"
     ]
    }
   ],
   "source": [
    "\n",
    "vals2_matrix=data_list\n",
    "print(shape(vals2_matrix))"
   ]
  },
  {
   "cell_type": "markdown",
   "metadata": {
    "id": "m3sNkSviJb5c"
   },
   "source": [
    "### 2.4 데이터 탐색"
   ]
  },
  {
   "cell_type": "markdown",
   "metadata": {},
   "source": [
    "#### 2.3.1 클래스 비율 확인"
   ]
  },
  {
   "cell_type": "code",
   "execution_count": 13,
   "metadata": {},
   "outputs": [],
   "source": [
    "label_type = defaultdict(int)\n",
    "for data in vals2_data:\n",
    "    label_type[data.label] += 1"
   ]
  },
  {
   "cell_type": "code",
   "execution_count": 14,
   "metadata": {},
   "outputs": [
    {
     "data": {
      "image/png": "[encoded data removed]",
      "text/plain": [
       "<Figure size 576x288 with 2 Axes>"
      ]
     },
     "metadata": {
      "needs_background": "light"
     },
     "output_type": "display_data"
    }
   ],
   "source": [
    "plt.figure(figsize=(8,4))\n",
    "plt.subplot(1, 2, 1)\n",
    "plt.bar(label_type.keys(),\n",
    "        label_type.values(),\n",
    "        0.5,\n",
    "        facecolor=\"#2E495E\",\n",
    "        edgecolor=(0, 0, 0))                # Black edges for each bar\n",
    "\n",
    "plt.xlabel(\"Diagnosis\")\n",
    "plt.ylabel(\"# of diagnosis\")\n",
    "plt.title(\"vals2 diagnosis\")\n",
    "\n",
    "plt.subplot(1, 2, 2)\n",
    "pies = plt.pie(label_type.values(),\n",
    "               labels=label_type.keys(),\n",
    "               startangle=90)\n",
    "plt.legend()\n",
    "plt.show()"
   ]
  },
  {
   "cell_type": "markdown",
   "metadata": {
    "id": "OSh-V8zBJZOz"
   },
   "source": [
    "### 2.5 데이터셋 분리 (Q)"
   ]
  },
  {
   "cell_type": "code",
   "execution_count": 15,
   "metadata": {
    "id": "UGsPIFge-krd"
   },
   "outputs": [
    {
     "name": "stdout",
     "output_type": "stream",
     "text": [
      "509 219\n"
     ]
    }
   ],
   "source": [
    "import random\n",
    "from scratch.machine_learning import split_data\n",
    "\n",
    "random.seed(12)\n",
    "vals2_train, vals2_test=split_data(vals2_data, 0.70)\n",
    "print(len(vals2_train), len(vals2_test))"
   ]
  },
  {
   "cell_type": "markdown",
   "metadata": {},
   "source": [
    "### 2.6 데이터 표준화 (Standardization)"
   ]
  },
  {
   "cell_type": "code",
   "execution_count": 16,
   "metadata": {},
   "outputs": [],
   "source": [
    "\n",
    "def normalization(dataset):\n",
    "    data=make_matrix(dataset)\n",
    "    rescaled = [v[:] for v in data]\n",
    "    \n",
    "    return rescaled"
   ]
  },
  {
   "cell_type": "code",
   "execution_count": 17,
   "metadata": {},
   "outputs": [],
   "source": [
    "vals2_train_matrix = normalization(vals2_train)\n",
    "vals2_test_matrix = normalization(vals2_test)"
   ]
  },
  {
   "cell_type": "markdown",
   "metadata": {
    "id": "GOjI4BV4RW_i"
   },
   "source": [
    "### 2.7 예측 (Q) "
   ]
  },
  {
   "cell_type": "code",
   "execution_count": 18,
   "metadata": {},
   "outputs": [],
   "source": [
    "from typing import Tuple\n",
    "\n",
    "def prediction(k : int) -> Tuple[float, Dict[Tuple[str, str], int]]: \n",
    "    # your code\n",
    "    confusion_matrix: Dict[Tuple[str, str], int]=defaultdict(int)\n",
    "    num_correct=0\n",
    "    \n",
    "    for data in vals2_test:\n",
    "        predicted=knn_classify(k, vals2_train, data.point)\n",
    "        actual = data.label\n",
    "        \n",
    "        if predicted==actual:\n",
    "            num_correct+=1\n",
    "        confusion_matrix[(predicted, actual)]+=1\n",
    "        \n",
    "    pct_correct = num_correct/len(vals2_test)\n",
    "    \n",
    "    return pct_correct, confusion_matrix"
   ]
  },
  {
   "cell_type": "markdown",
   "metadata": {},
   "source": [
    "### 2.8 엘보 방법 (Elbow method)으로 k 선정 (Q)"
   ]
  },
  {
   "cell_type": "code",
   "execution_count": 19,
   "metadata": {},
   "outputs": [
    {
     "name": "stdout",
     "output_type": "stream",
     "text": [
      "\n",
      "Optimal k =  1\n"
     ]
    },
    {
     "data": {
      "image/png": "[encoded data removed]",
      "text/plain": [
       "<Figure size 432x288 with 1 Axes>"
      ]
     },
     "metadata": {
      "needs_background": "light"
     },
     "output_type": "display_data"
    }
   ],
   "source": [
    "k_candidate = (k for k in range(1, 30))\n",
    "optimal_k = 0\n",
    "\n",
    "acc_list : List[float] = []\n",
    "for k in k_candidate:\n",
    "    accuracy, confusion_matrix = prediction(k)\n",
    "    acc_list.append(accuracy)\n",
    "    # your code\n",
    "optimal_k=acc_list.index(max(acc_list))+1\n",
    "print(\"\")\n",
    "print(\"Optimal k = \", optimal_k)\n",
    "plt.plot(acc_list)\n",
    "plt.show()"
   ]
  },
  {
   "cell_type": "code",
   "execution_count": null,
   "metadata": {},
   "outputs": [],
   "source": []
  }
 ],
 "metadata": {
  "colab": {
   "collapsed_sections": [],
   "name": "12. kNN.ipynb",
   "provenance": []
  },
  "kernelspec": {
   "display_name": "Python 3",
   "language": "python",
   "name": "python3"
  },
  "language_info": {
   "codemirror_mode": {
    "name": "ipython",
    "version": 3
   },
   "file_extension": ".py",
   "mimetype": "text/x-python",
   "name": "python",
   "nbconvert_exporter": "python",
   "pygments_lexer": "ipython3",
   "version": "3.8.8"
  }
 },
 "nbformat": 4,
 "nbformat_minor": 1
}
